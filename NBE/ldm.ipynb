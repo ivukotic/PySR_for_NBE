{
 "cells": [
  {
   "cell_type": "code",
   "execution_count": 1,
   "id": "e5b1b9eb-8fe3-4d57-b610-8e98f1bad042",
   "metadata": {},
   "outputs": [],
   "source": [
    "from matplotlib import pyplot as plt\n",
    "import numpy as np\n",
    "import pandas as pd"
   ]
  },
  {
   "cell_type": "code",
   "execution_count": 2,
   "id": "8106ec26-12ac-4e71-990a-ed013e22a3e7",
   "metadata": {},
   "outputs": [],
   "source": [
    "df = pd.read_fwf('mass.mas03', usecols=(2, 3, 11),\n",
    "                 widths=(1, 3, 5, 5, 5, 1, 3, 4, 1, 13, 11, 11,\n",
    "                         9, 1, 2, 11, 9, 1, 3, 1, 12, 11, 1),\n",
    "                 skiprows=41, header=None,\n",
    "                 index_col=False)\n",
    "df.columns = ('N', 'Z',  'avEbind')\n",
    "\n",
    "# Extrapolated values are indicated by '#' in place of the decimal place, so\n",
    "# the avEbind column won't be numeric. Coerce to float and drop these entries.\n",
    "df['avEbind'] = pd.to_numeric(df['avEbind'], errors='coerce')\n",
    "df = df.dropna()\n",
    "df[\"A\"] = df.N + df.Z\n"
   ]
  },
  {
   "cell_type": "code",
   "execution_count": null,
   "id": "86d64d65-87ed-4c1a-9c28-918cd120a962",
   "metadata": {},
   "outputs": [],
   "source": [
    "aV = 15750\n",
    "aS = 17800\n",
    "aC = 711\n",
    "aA = 23700\n",
    "aP = 11180\n",
    "kP = -0.5\n",
    "\n",
    "df['parity'] = 0 \n",
    "df.loc[df.A %2 == 0, df.parity] = aP * pow(df.A, kP)\n",
    "df['LDM'] = (aV * df.A - aS * pow(df.A, 2/3) - aC * df.Z*(df.Z-1)/pow(df.A,1/3) - aA * pow(df.N-df.Z, 2)/df.A ) / df.A\n",
    "\n",
    "print(df)"
   ]
  },
  {
   "cell_type": "code",
   "execution_count": null,
   "id": "ea14ebe7-7979-44f0-9e6c-6f91c5dcb5bc",
   "metadata": {},
   "outputs": [],
   "source": []
  }
 ],
 "metadata": {
  "kernelspec": {
   "display_name": "Python 3 (ipykernel)",
   "language": "python",
   "name": "python3"
  },
  "language_info": {
   "codemirror_mode": {
    "name": "ipython",
    "version": 3
   },
   "file_extension": ".py",
   "mimetype": "text/x-python",
   "name": "python",
   "nbconvert_exporter": "python",
   "pygments_lexer": "ipython3",
   "version": "3.9.10"
  }
 },
 "nbformat": 4,
 "nbformat_minor": 5
}
