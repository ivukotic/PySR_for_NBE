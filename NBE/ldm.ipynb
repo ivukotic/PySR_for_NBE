{
 "cells": [
  {
   "cell_type": "code",
   "execution_count": 24,
   "id": "e5b1b9eb-8fe3-4d57-b610-8e98f1bad042",
   "metadata": {},
   "outputs": [],
   "source": [
    "from matplotlib import pyplot as plt\n",
    "import matplotlib.colors as colors\n",
    "from matplotlib import cm\n",
    "import numpy as np\n",
    "import pandas as pd"
   ]
  },
  {
   "cell_type": "code",
   "execution_count": 2,
   "id": "8106ec26-12ac-4e71-990a-ed013e22a3e7",
   "metadata": {},
   "outputs": [],
   "source": [
    "df = pd.read_fwf('mass.mas03', usecols=(2, 3, 11),\n",
    "                 widths=(1, 3, 5, 5, 5, 1, 3, 4, 1, 13, 11, 11,\n",
    "                         9, 1, 2, 11, 9, 1, 3, 1, 12, 11, 1),\n",
    "                 skiprows=41, header=None,\n",
    "                 index_col=False)\n",
    "df.columns = ('N', 'Z',  'avEbind')\n",
    "\n",
    "# Extrapolated values are indicated by '#' in place of the decimal place, so\n",
    "# the avEbind column won't be numeric. Coerce to float and drop these entries.\n",
    "df['avEbind'] = pd.to_numeric(df['avEbind'], errors='coerce')\n",
    "df = df.dropna()\n",
    "df[\"A\"] = df.N + df.Z\n"
   ]
  },
  {
   "cell_type": "code",
   "execution_count": 3,
   "id": "86d64d65-87ed-4c1a-9c28-918cd120a962",
   "metadata": {},
   "outputs": [
    {
     "data": {
      "text/html": [
       "<div>\n",
       "<style scoped>\n",
       "    .dataframe tbody tr th:only-of-type {\n",
       "        vertical-align: middle;\n",
       "    }\n",
       "\n",
       "    .dataframe tbody tr th {\n",
       "        vertical-align: top;\n",
       "    }\n",
       "\n",
       "    .dataframe thead th {\n",
       "        text-align: right;\n",
       "    }\n",
       "</style>\n",
       "<table border=\"1\" class=\"dataframe\">\n",
       "  <thead>\n",
       "    <tr style=\"text-align: right;\">\n",
       "      <th></th>\n",
       "      <th>N</th>\n",
       "      <th>Z</th>\n",
       "      <th>avEbind</th>\n",
       "      <th>A</th>\n",
       "      <th>parity</th>\n",
       "      <th>LDM</th>\n",
       "      <th>res</th>\n",
       "    </tr>\n",
       "  </thead>\n",
       "  <tbody>\n",
       "    <tr>\n",
       "      <th>0</th>\n",
       "      <td>1</td>\n",
       "      <td>1</td>\n",
       "      <td>1112.283</td>\n",
       "      <td>2</td>\n",
       "      <td>-7905.453814</td>\n",
       "      <td>-2330.596269</td>\n",
       "      <td>3442.879269</td>\n",
       "    </tr>\n",
       "    <tr>\n",
       "      <th>1</th>\n",
       "      <td>2</td>\n",
       "      <td>1</td>\n",
       "      <td>2827.266</td>\n",
       "      <td>3</td>\n",
       "      <td>0.000000</td>\n",
       "      <td>774.835983</td>\n",
       "      <td>2052.430017</td>\n",
       "    </tr>\n",
       "    <tr>\n",
       "      <th>2</th>\n",
       "      <td>1</td>\n",
       "      <td>2</td>\n",
       "      <td>2572.681</td>\n",
       "      <td>3</td>\n",
       "      <td>0.000000</td>\n",
       "      <td>446.182739</td>\n",
       "      <td>2126.498261</td>\n",
       "    </tr>\n",
       "    <tr>\n",
       "      <th>4</th>\n",
       "      <td>3</td>\n",
       "      <td>1</td>\n",
       "      <td>1400.351</td>\n",
       "      <td>4</td>\n",
       "      <td>-5590.000000</td>\n",
       "      <td>-2785.797344</td>\n",
       "      <td>4186.148344</td>\n",
       "    </tr>\n",
       "    <tr>\n",
       "      <th>5</th>\n",
       "      <td>2</td>\n",
       "      <td>2</td>\n",
       "      <td>7073.915</td>\n",
       "      <td>4</td>\n",
       "      <td>5590.000000</td>\n",
       "      <td>5710.251689</td>\n",
       "      <td>1363.663311</td>\n",
       "    </tr>\n",
       "    <tr>\n",
       "      <th>...</th>\n",
       "      <td>...</td>\n",
       "      <td>...</td>\n",
       "      <td>...</td>\n",
       "      <td>...</td>\n",
       "      <td>...</td>\n",
       "      <td>...</td>\n",
       "      <td>...</td>\n",
       "    </tr>\n",
       "    <tr>\n",
       "      <th>3010</th>\n",
       "      <td>157</td>\n",
       "      <td>101</td>\n",
       "      <td>7409.669</td>\n",
       "      <td>258</td>\n",
       "      <td>-696.036398</td>\n",
       "      <td>7462.492866</td>\n",
       "      <td>-52.823866</td>\n",
       "    </tr>\n",
       "    <tr>\n",
       "      <th>3029</th>\n",
       "      <td>154</td>\n",
       "      <td>106</td>\n",
       "      <td>7342.424</td>\n",
       "      <td>260</td>\n",
       "      <td>693.354166</td>\n",
       "      <td>7387.326192</td>\n",
       "      <td>-44.902192</td>\n",
       "    </tr>\n",
       "    <tr>\n",
       "      <th>3034</th>\n",
       "      <td>157</td>\n",
       "      <td>104</td>\n",
       "      <td>7371.396</td>\n",
       "      <td>261</td>\n",
       "      <td>0.000000</td>\n",
       "      <td>7421.234416</td>\n",
       "      <td>-49.838416</td>\n",
       "    </tr>\n",
       "    <tr>\n",
       "      <th>3058</th>\n",
       "      <td>156</td>\n",
       "      <td>108</td>\n",
       "      <td>7298.239</td>\n",
       "      <td>264</td>\n",
       "      <td>688.081435</td>\n",
       "      <td>7342.964526</td>\n",
       "      <td>-44.725526</td>\n",
       "    </tr>\n",
       "    <tr>\n",
       "      <th>3062</th>\n",
       "      <td>159</td>\n",
       "      <td>106</td>\n",
       "      <td>7332.652</td>\n",
       "      <td>265</td>\n",
       "      <td>0.000000</td>\n",
       "      <td>7381.662861</td>\n",
       "      <td>-49.010861</td>\n",
       "    </tr>\n",
       "  </tbody>\n",
       "</table>\n",
       "<p>2226 rows × 7 columns</p>\n",
       "</div>"
      ],
      "text/plain": [
       "        N    Z   avEbind    A       parity          LDM          res\n",
       "0       1    1  1112.283    2 -7905.453814 -2330.596269  3442.879269\n",
       "1       2    1  2827.266    3     0.000000   774.835983  2052.430017\n",
       "2       1    2  2572.681    3     0.000000   446.182739  2126.498261\n",
       "4       3    1  1400.351    4 -5590.000000 -2785.797344  4186.148344\n",
       "5       2    2  7073.915    4  5590.000000  5710.251689  1363.663311\n",
       "...   ...  ...       ...  ...          ...          ...          ...\n",
       "3010  157  101  7409.669  258  -696.036398  7462.492866   -52.823866\n",
       "3029  154  106  7342.424  260   693.354166  7387.326192   -44.902192\n",
       "3034  157  104  7371.396  261     0.000000  7421.234416   -49.838416\n",
       "3058  156  108  7298.239  264   688.081435  7342.964526   -44.725526\n",
       "3062  159  106  7332.652  265     0.000000  7381.662861   -49.010861\n",
       "\n",
       "[2226 rows x 7 columns]"
      ]
     },
     "execution_count": 3,
     "metadata": {},
     "output_type": "execute_result"
    }
   ],
   "source": [
    "aV = 15750\n",
    "aS = 17800\n",
    "aC = 711\n",
    "aA = 23700\n",
    "aP = 11180\n",
    "kP = -0.5\n",
    "\n",
    "df['parity'] = 0 \n",
    "df.parity = np.where((df.N % 2 == 1) & (df.Z % 2 == 1), -aP * pow(df.A, kP), df.parity)\n",
    "df.parity = np.where((df.N % 2 == 0) & (df.Z % 2 == 0), +aP * pow(df.A, kP), df.parity)\n",
    "\n",
    "df['LDM'] = (aV * df.A - aS * pow(df.A, 2/3) - aC * df.Z*(df.Z-1)/pow(df.A,1/3) - aA * pow(df.N-df.Z, 2)/df.A + df.parity) / df.A\n",
    "df['res'] = df.avEbind - df.LDM\n",
    "df"
   ]
  },
  {
   "cell_type": "code",
   "execution_count": 4,
   "id": "ea14ebe7-7979-44f0-9e6c-6f91c5dcb5bc",
   "metadata": {},
   "outputs": [
    {
     "data": {
      "text/plain": [
       "92611.52508555225"
      ]
     },
     "execution_count": 4,
     "metadata": {},
     "output_type": "execute_result"
    }
   ],
   "source": [
    "df['res2']=df.res**2\n",
    "df.res2.sum()/df.shape[0]"
   ]
  },
  {
   "cell_type": "code",
   "execution_count": 44,
   "id": "12ef9490-d366-4b54-8921-d531a9a2c63e",
   "metadata": {},
   "outputs": [
    {
     "name": "stdout",
     "output_type": "stream",
     "text": [
      "-224.96259939732772 6303.386486285056\n"
     ]
    },
    {
     "data": {
      "image/png": "[encoded data removed]",
      "text/plain": [
       "<Figure size 1050x750 with 2 Axes>"
      ]
     },
     "metadata": {
      "needs_background": "light"
     },
     "output_type": "display_data"
    },
    {
     "data": {
      "text/plain": [
       "<Figure size 432x288 with 0 Axes>"
      ]
     },
     "metadata": {},
     "output_type": "display_data"
    }
   ],
   "source": [
    "pdf=df.drop(['avEbind','A', 'parity', 'LDM', 'res2'], axis = 1)\n",
    "tp=pdf.set_index(['Z', 'N']).res.unstack(0)\n",
    "\n",
    "fig, ax = plt.subplots(figsize=(7, 5), dpi=150)\n",
    "z_min=pdf.res.min()\n",
    "z_max=pdf.res.max()\n",
    "print(z_min, z_max)\n",
    "\n",
    "# c = ax.pcolormesh(tp, cmap= cm.coolwarm, norm=colors.LogNorm(vmin=z_min, vmax=z_max)) \n",
    "c=ax.pcolormesh(tp, norm=colors.SymLogNorm(linthresh=0.1, linscale=0.1, vmin=z_min, vmax=z_max, base=10),\n",
    "                       cmap=cm.coolwarm, shading='auto')\n",
    "\n",
    "ax.set_title('LDM')\n",
    "# set the limits of the plot to the limits of the data\n",
    "ax.axis([pdf.Z.min(), pdf.Z.max(), pdf.N.min(), pdf.N.max()])\n",
    "fig.colorbar(c, ax=ax)\n",
    "\n",
    "ax.set_xlabel('Z')\n",
    "ax.set_ylabel('N')\n",
    "\n",
    "plt.show()\n",
    "plt.savefig(\"LDM.png\", dpi=150)"
   ]
  }
 ],
 "metadata": {
  "interpreter": {
   "hash": "6de901b11d06e4b44e036d3fc3c35e3a50f57bab0f4138079b9450aa16e5c10b"
  },
  "kernelspec": {
   "display_name": "Python 3 (ipykernel)",
   "language": "python",
   "name": "python3"
  },
  "language_info": {
   "codemirror_mode": {
    "name": "ipython",
    "version": 3
   },
   "file_extension": ".py",
   "mimetype": "text/x-python",
   "name": "python",
   "nbconvert_exporter": "python",
   "pygments_lexer": "ipython3",
   "version": "3.9.10"
  }
 },
 "nbformat": 4,
 "nbformat_minor": 5
}
